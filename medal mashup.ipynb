{
 "cells": [
  {
   "cell_type": "code",
   "execution_count": 1,
   "metadata": {},
   "outputs": [],
   "source": [
    "from lib import lib\n",
    "import pandas as pd\n",
    "from PIL import Image\n",
    "import requests\n",
    "from io import BytesIO\n",
    "import os.path\n"
   ]
  },
  {
   "cell_type": "code",
   "execution_count": 46,
   "metadata": {},
   "outputs": [],
   "source": [
    "lib = lib({\n",
    "    'token': \"insert your token here\",\n",
    "})\n",
    "version = \"@1.4.0\"\n",
    "gamertag = \"valent 33\"\n"
   ]
  },
  {
   "cell_type": "code",
   "execution_count": 47,
   "metadata": {},
   "outputs": [],
   "source": [
    "def getAllMedals(gamertag, season=None):\n",
    "    medals = pd.DataFrame(lib.halo.infinite[version].metadata.multiplayer.medals()['data'])\n",
    "    medals['image_urls'] = medals['image_urls'].apply(lambda x: x['large'])\n",
    "    medals['count'] = 0\n",
    "\n",
    "    result = lib.halo.infinite[version].stats.players['service-record'].multiplayer.matchmade.all({\n",
    "        'gamertag': gamertag,\n",
    "        'season': season,\n",
    "    })\n",
    "    medal_count = pd.DataFrame(result['data']['core']['breakdowns']['medals'])\n",
    "    for i in range(len(medal_count)):\n",
    "        medals.loc[medals['id'] == medal_count['id'][i], 'count'] = medal_count['count'][i]\n",
    "    \n",
    "    return medals\n"
   ]
  },
  {
   "cell_type": "code",
   "execution_count": 49,
   "metadata": {},
   "outputs": [],
   "source": [
    "medals = getAllMedals()\n"
   ]
  },
  {
   "cell_type": "code",
   "execution_count": 50,
   "metadata": {},
   "outputs": [
    {
     "data": {
      "text/html": [
       "<div>\n",
       "<style scoped>\n",
       "    .dataframe tbody tr th:only-of-type {\n",
       "        vertical-align: middle;\n",
       "    }\n",
       "\n",
       "    .dataframe tbody tr th {\n",
       "        vertical-align: top;\n",
       "    }\n",
       "\n",
       "    .dataframe thead th {\n",
       "        text-align: right;\n",
       "    }\n",
       "</style>\n",
       "<table border=\"1\" class=\"dataframe\">\n",
       "  <thead>\n",
       "    <tr style=\"text-align: right;\">\n",
       "      <th></th>\n",
       "      <th>id</th>\n",
       "      <th>name</th>\n",
       "      <th>description</th>\n",
       "      <th>difficulty</th>\n",
       "      <th>type</th>\n",
       "      <th>image_urls</th>\n",
       "      <th>count</th>\n",
       "    </tr>\n",
       "  </thead>\n",
       "  <tbody>\n",
       "    <tr>\n",
       "      <th>0</th>\n",
       "      <td>3233952928</td>\n",
       "      <td>Killjoy</td>\n",
       "      <td>End an enemy's killing spree</td>\n",
       "      <td>normal</td>\n",
       "      <td>killing-spree</td>\n",
       "      <td>https://halo.public.files.stdlib.com/static/in...</td>\n",
       "      <td>163</td>\n",
       "    </tr>\n",
       "    <tr>\n",
       "      <th>1</th>\n",
       "      <td>2780740615</td>\n",
       "      <td>Killing Spree</td>\n",
       "      <td>Kill 5 enemies without dying</td>\n",
       "      <td>heroic</td>\n",
       "      <td>killing-spree</td>\n",
       "      <td>https://halo.public.files.stdlib.com/static/in...</td>\n",
       "      <td>649</td>\n",
       "    </tr>\n",
       "    <tr>\n",
       "      <th>2</th>\n",
       "      <td>4261842076</td>\n",
       "      <td>Killing Frenzy</td>\n",
       "      <td>Kill 10 enemies without dying</td>\n",
       "      <td>legendary</td>\n",
       "      <td>killing-spree</td>\n",
       "      <td>https://halo.public.files.stdlib.com/static/in...</td>\n",
       "      <td>194</td>\n",
       "    </tr>\n",
       "    <tr>\n",
       "      <th>3</th>\n",
       "      <td>418532952</td>\n",
       "      <td>Running Riot</td>\n",
       "      <td>Kill 15 enemies without dying</td>\n",
       "      <td>mythic</td>\n",
       "      <td>killing-spree</td>\n",
       "      <td>https://halo.public.files.stdlib.com/static/in...</td>\n",
       "      <td>49</td>\n",
       "    </tr>\n",
       "    <tr>\n",
       "      <th>4</th>\n",
       "      <td>1486797009</td>\n",
       "      <td>Rampage</td>\n",
       "      <td>Kill 20 enemies without dying</td>\n",
       "      <td>mythic</td>\n",
       "      <td>killing-spree</td>\n",
       "      <td>https://halo.public.files.stdlib.com/static/in...</td>\n",
       "      <td>17</td>\n",
       "    </tr>\n",
       "  </tbody>\n",
       "</table>\n",
       "</div>"
      ],
      "text/plain": [
       "           id            name                    description difficulty  \\\n",
       "0  3233952928         Killjoy   End an enemy's killing spree     normal   \n",
       "1  2780740615   Killing Spree   Kill 5 enemies without dying     heroic   \n",
       "2  4261842076  Killing Frenzy  Kill 10 enemies without dying  legendary   \n",
       "3   418532952    Running Riot  Kill 15 enemies without dying     mythic   \n",
       "4  1486797009         Rampage  Kill 20 enemies without dying     mythic   \n",
       "\n",
       "            type                                         image_urls  count  \n",
       "0  killing-spree  https://halo.public.files.stdlib.com/static/in...    163  \n",
       "1  killing-spree  https://halo.public.files.stdlib.com/static/in...    649  \n",
       "2  killing-spree  https://halo.public.files.stdlib.com/static/in...    194  \n",
       "3  killing-spree  https://halo.public.files.stdlib.com/static/in...     49  \n",
       "4  killing-spree  https://halo.public.files.stdlib.com/static/in...     17  "
      ]
     },
     "execution_count": 50,
     "metadata": {},
     "output_type": "execute_result"
    }
   ],
   "source": [
    "medals.head()\n"
   ]
  },
  {
   "cell_type": "code",
   "execution_count": null,
   "metadata": {},
   "outputs": [],
   "source": [
    "for i in range(len(medals)):\n",
    "    response = requests.get(medals['image_urls'][i])\n",
    "    img = Image.open(BytesIO(response.content))\n",
    "    img.save('.\\images\\\\' + medals['name'][i] + '.png')\n"
   ]
  },
  {
   "cell_type": "code",
   "execution_count": 41,
   "metadata": {},
   "outputs": [],
   "source": [
    "path = \".\\images\"\n",
    "dirs = os.listdir(path)\n",
    "\n",
    "\n",
    "def crop():\n",
    "    for item in dirs:\n",
    "        if item not in ['Killing Spree.png']:\n",
    "            fullpath = os.path.join(path, item)\n",
    "            if os.path.isfile(fullpath):\n",
    "                im = Image.open(fullpath)\n",
    "                f, e = os.path.splitext(fullpath)\n",
    "                imCrop = im.crop((20, 20, 236, 236))\n",
    "                imCrop.save(f + 'Cropped.png', \"png\")\n",
    "\n",
    "\n",
    "crop()\n"
   ]
  },
  {
   "cell_type": "code",
   "execution_count": 42,
   "metadata": {},
   "outputs": [],
   "source": [
    "# delete all images but the cropped ones\n",
    "for item in dirs:\n",
    "    if item not in ['Killing Spree.png']:\n",
    "        fullpath = os.path.join(path, item)\n",
    "        if os.path.isfile(fullpath):\n",
    "            f, e = os.path.splitext(fullpath)\n",
    "            if f + 'Cropped.png' not in os.listdir(path):\n",
    "                os.remove(fullpath)\n",
    "    else:\n",
    "        # rename the image by adding Cropped\n",
    "        fullpath = os.path.join(path, item)\n",
    "        f, e = os.path.splitext(fullpath)\n",
    "        os.rename(fullpath, f + 'Cropped.png')\n"
   ]
  },
  {
   "cell_type": "code",
   "execution_count": 51,
   "metadata": {},
   "outputs": [],
   "source": [
    "gephi = pd.DataFrame(columns=['source', 'weight', 'type', 'image'])\n",
    "gephi['source'] = medals[medals['count'] != 0]['name']\n",
    "gephi['weight'] = medals[medals['count'] != 0]['count']\n",
    "gephi['type'] = medals[medals['count'] != 0]['type']\n",
    "gephi['image'] = medals[medals['count'] != 0]['name']\n",
    "gephi['image'] = gephi['image'].apply(lambda x: x + 'Cropped.png')\n"
   ]
  },
  {
   "cell_type": "code",
   "execution_count": 52,
   "metadata": {},
   "outputs": [
    {
     "data": {
      "text/html": [
       "<div>\n",
       "<style scoped>\n",
       "    .dataframe tbody tr th:only-of-type {\n",
       "        vertical-align: middle;\n",
       "    }\n",
       "\n",
       "    .dataframe tbody tr th {\n",
       "        vertical-align: top;\n",
       "    }\n",
       "\n",
       "    .dataframe thead th {\n",
       "        text-align: right;\n",
       "    }\n",
       "</style>\n",
       "<table border=\"1\" class=\"dataframe\">\n",
       "  <thead>\n",
       "    <tr style=\"text-align: right;\">\n",
       "      <th></th>\n",
       "      <th>source</th>\n",
       "      <th>weight</th>\n",
       "      <th>type</th>\n",
       "      <th>image</th>\n",
       "    </tr>\n",
       "  </thead>\n",
       "  <tbody>\n",
       "    <tr>\n",
       "      <th>0</th>\n",
       "      <td>Killjoy</td>\n",
       "      <td>163</td>\n",
       "      <td>killing-spree</td>\n",
       "      <td>KilljoyCropped.png</td>\n",
       "    </tr>\n",
       "    <tr>\n",
       "      <th>1</th>\n",
       "      <td>Killing Spree</td>\n",
       "      <td>649</td>\n",
       "      <td>killing-spree</td>\n",
       "      <td>Killing SpreeCropped.png</td>\n",
       "    </tr>\n",
       "    <tr>\n",
       "      <th>2</th>\n",
       "      <td>Killing Frenzy</td>\n",
       "      <td>194</td>\n",
       "      <td>killing-spree</td>\n",
       "      <td>Killing FrenzyCropped.png</td>\n",
       "    </tr>\n",
       "    <tr>\n",
       "      <th>3</th>\n",
       "      <td>Running Riot</td>\n",
       "      <td>49</td>\n",
       "      <td>killing-spree</td>\n",
       "      <td>Running RiotCropped.png</td>\n",
       "    </tr>\n",
       "    <tr>\n",
       "      <th>4</th>\n",
       "      <td>Rampage</td>\n",
       "      <td>17</td>\n",
       "      <td>killing-spree</td>\n",
       "      <td>RampageCropped.png</td>\n",
       "    </tr>\n",
       "  </tbody>\n",
       "</table>\n",
       "</div>"
      ],
      "text/plain": [
       "           source  weight           type                      image\n",
       "0         Killjoy     163  killing-spree         KilljoyCropped.png\n",
       "1   Killing Spree     649  killing-spree   Killing SpreeCropped.png\n",
       "2  Killing Frenzy     194  killing-spree  Killing FrenzyCropped.png\n",
       "3    Running Riot      49  killing-spree    Running RiotCropped.png\n",
       "4         Rampage      17  killing-spree         RampageCropped.png"
      ]
     },
     "execution_count": 52,
     "metadata": {},
     "output_type": "execute_result"
    }
   ],
   "source": [
    "gephi.head()\n"
   ]
  },
  {
   "cell_type": "code",
   "execution_count": 53,
   "metadata": {},
   "outputs": [],
   "source": [
    "with open('halo.csv', 'w') as f:\n",
    "    f.write('id')\n",
    "gephi.to_csv('halo.csv', mode='a')\n"
   ]
  },
  {
   "cell_type": "code",
   "execution_count": null,
   "metadata": {},
   "outputs": [],
   "source": []
  }
 ],
 "metadata": {
  "interpreter": {
   "hash": "837c519a48be08d8749c778cb72b9b5aac116a087aa5d1d99ee0359dceff73e6"
  },
  "kernelspec": {
   "display_name": "Python 3.10.2 64-bit",
   "language": "python",
   "name": "python3"
  },
  "language_info": {
   "codemirror_mode": {
    "name": "ipython",
    "version": 3
   },
   "file_extension": ".py",
   "mimetype": "text/x-python",
   "name": "python",
   "nbconvert_exporter": "python",
   "pygments_lexer": "ipython3",
   "version": "3.10.2"
  },
  "orig_nbformat": 4
 },
 "nbformat": 4,
 "nbformat_minor": 2
}
